{
 "cells": [
  {
   "cell_type": "markdown",
   "metadata": {},
   "source": [
    "# S19 COGS18 - FINAL PROJECT"
   ]
  },
  {
   "cell_type": "markdown",
   "metadata": {},
   "source": [
    "###Conway's Game of Life:###\n",
    "\n",
    "a zero-player game with exactly four rules:\n",
    "\n",
    "**1. A _live_ cell with _less than 2_ neighbours will die.**\n",
    "\n",
    "**2. A _live_ cell with _more than 3_ neighbours will die.**\n",
    "\n",
    "**3. A _live_ cell with _2 or 3_ neighbours will live.**\n",
    "\n",
    "**4. A _dead_ cell with _3_ neighbours will live.**\n",
    "\n",
    "Cells are single points in a 2d grid; each cell has a total of 8 neighbours.\n",
    "The rules are applied to all points in the grid simultaneously, in a _tick_.\n",
    "\n",
    "A _seed_ is the starting configuration of live cells; this could be random or supplied by a player. The number of ticks in a game can be likewise random, fixed, or supplied by a player."
   ]
  },
  {
   "cell_type": "markdown",
   "metadata": {},
   "source": [
    "create class cell\n",
    "\n",
    "live cell = o (chr(111))\n",
    "\n",
    "grid=• (chr(2022))\n",
    "\n",
    "use arrays (numpy)? evaluate only those entries with '1' or 'true'?\n",
    "\n",
    "grid_size=index; if status changes change entry at index(grid_size)\n",
    "\n",
    "every tick redraw entire array\n",
    "\n",
    "each row= array?\n",
    "\n",
    "need function to check each row for # live cells\n"
   ]
  },
  {
   "cell_type": "code",
   "execution_count": 1,
   "metadata": {},
   "outputs": [
    {
     "name": "stdout",
     "output_type": "stream",
     "text": [
      "Requirement already satisfied: pygame in /anaconda3/lib/python3.7/site-packages (1.9.6)\n",
      "pygame 1.9.6\n",
      "Hello from the pygame community. https://www.pygame.org/contribute.html\n"
     ]
    }
   ],
   "source": [
    "# Import numpy for array access\n",
    "import numpy as np\n",
    "\n",
    "# Import pygame for keyclick\n",
    "import sys\n",
    "!{sys.executable} -m pip install pygame\n",
    "import pygame as pg\n",
    "\n",
    "# Import clear screen to refresh grid\n",
    "from IPython.display import clear_output"
   ]
  },
  {
   "cell_type": "code",
   "execution_count": 134,
   "metadata": {},
   "outputs": [],
   "source": [
    "class Cell():\n",
    "    '''\n",
    "    create an object that lives or dies per the rules of Life\n",
    "     1. Cell with less than 2 neighbours dies\n",
    "     2. Cell with more than 3 neighbours dies\n",
    "     3. Cell with 2 or 3 neighbours survives\n",
    "     4. Cell with 3 neighbours is born\n",
    "     \n",
    "     ----PARAMETERS & VARIABLES----\n",
    "     life_state = 0 or 1 \n",
    "         dead or live \n",
    "         default=0\n",
    "     live_neighbours = int \n",
    "         return from check_neighbours \n",
    "         default=0\n",
    "     x_coord = int\n",
    "         column location of cell\n",
    "     y_coord = int\n",
    "         row location of cell\n",
    "     symbol = int\n",
    "         visual representation on grid\n",
    "         default is dead state (8226)\n",
    "         live state is \"@\" (64)\n",
    "     method - check_neighbours: check for number of live neighbours\n",
    "        there can be at most eight live neighbours - but no use checking after four are found\n",
    "        \n",
    "        neighbours=int: counter; increase by one for every live neighbour found\n",
    "         if/when neighbours=<4, break loop\n",
    "    '''\n",
    "    \n",
    "    def __init__(self, life_state=False, live_neighbours=0, symbol=8226):\n",
    "        self.life_state = life_state\n",
    "        self.live_neighbours = live_neighbours\n",
    "#        self.x_coord = x_coord\n",
    " #       self.y_coord = y_coord\n",
    "        self.symbol = chr(symbol) \n",
    "    \n",
    "    def print_stats(self):\n",
    "        print(self.life_state,\" \",self.symbol)"
   ]
  },
  {
   "cell_type": "code",
   "execution_count": null,
   "metadata": {},
   "outputs": [],
   "source": [
    "def test_cell_class():\n",
    "    '''\n",
    "    test function for existence of Cell class object\n",
    "    '''\n",
    "    \n",
    "    test_cell = Cell(True, 3, 2, 2)\n",
    "    \n",
    "    assert isinstance (test_cell, Cell)\n",
    "    assert test_cell.life_state == True\n",
    "    assert test_cell.live_neighbours == 3\n",
    "    assert test_cell.xy_coord == 2"
   ]
  },
  {
   "cell_type": "code",
   "execution_count": 164,
   "metadata": {},
   "outputs": [],
   "source": [
    "def run_world(grid=10, pause=0.5):\n",
    "    '''\n",
    "    populate and start time on grid with Cell objects\n",
    "    \n",
    "    ----Parameters & Variables----\n",
    "    cells = Cell object\n",
    "    grid = int\n",
    "        size of grid (default=10)\n",
    "         -- set up this way to allow for user-selected grid size later\n",
    "    pause = int \n",
    "        length of pause between generations (default=0.5)\n",
    "        \n",
    "    world_grid = array\n",
    "        mapping of board\n",
    "        \n",
    "    y = int\n",
    "        \n",
    "    '''\n",
    "        \n",
    "\n",
    "    \n",
    "def draw_world(population):\n",
    "    '''\n",
    "    draw world using Cell.symbol attribute\n",
    "    \n",
    "    ----Parameters & Variables----\n",
    "    population = array\n",
    "        container for Cell objects populating grid\n",
    "        \n",
    "    row = int\n",
    "        working across horizontally\n",
    "        \n",
    "    col = int\n",
    "        working down vertically\n",
    "    '''\n",
    "    \n",
    "    grid=10\n",
    "    \n",
    "    for row in range(0,grid):\n",
    "        for col in range(0,grid):\n",
    "            dot=population[row][col].symbol\n",
    "            #dot=\"•\"\n",
    "            print (dot,\" \",end=\"\") # • is placeholder for symbol to check grid function\n",
    "        print()\n",
    "    \n",
    "def populate_world(grid=10):\n",
    "    '''\n",
    "    create array of Cell objects to work with\n",
    "    \n",
    "    ----Parameters & Variables----\n",
    "    x = int\n",
    "        working across rows\n",
    "        \n",
    "    y = int\n",
    "        working down columns\n",
    "        \n",
    "    population = array\n",
    "        2d array of Cell objects #maybe i don't need x_coord, y_coord now\n",
    "    '''\n",
    "    \n",
    "    population = np.full((grid, grid), Cell())\n",
    "\n",
    "    for x in range(0, 1):\n",
    "        for y in range(0, 1):\n",
    "            state=pick_state()\n",
    "            #print(state)\n",
    "            #print(x,\", \",y,\": \",state)\n",
    "            if state==True:\n",
    "                population[x][y] = Cell(life_state=True,symbol=64)\n",
    "            population[x][y] = Cell()\n",
    "            \n",
    "            #print(x,\", \",y,\" \",Cell.print_stats(population[x][y]))\n",
    "            #print(\"--\")\n",
    "        \n",
    "        \n",
    "    return population\n",
    "\n",
    "def pick_state(weight=[0.2,0.8]):\n",
    "    '''\n",
    "    randomly assign True/alive or False/dead life state to Cell objects\n",
    "    \n",
    "    ----Parameters & Variables----\n",
    "    state_list = list\n",
    "        container for binary choice of live (True) or dead (False)\n",
    "        \n",
    "    weight = list\n",
    "        container for relative probability of Cell being live or dead\n",
    "        defaulted to 20/80 live/dead\n",
    "        optional parameter to allow for possible future user-setting\n",
    "    \n",
    "    '''\n",
    "    \n",
    "    state_list=[\"True\", \"False\"]\n",
    "    \n",
    "    state=np.random.choice(state_list,p=weight)\n",
    "    \n",
    "    if state==\"True\":\n",
    "        set_state=True\n",
    "    elif state==\"False\":\n",
    "        set_state=False\n",
    "\n",
    "    #print(set_state)\n",
    "    return set_state"
   ]
  },
  {
   "cell_type": "code",
   "execution_count": 179,
   "metadata": {},
   "outputs": [
    {
     "name": "stdout",
     "output_type": "stream",
     "text": [
      "<class 'numpy.ndarray'>\n"
     ]
    }
   ],
   "source": [
    "def test_world_functions():\n",
    "    '''\n",
    "    test function for various world functions\n",
    "    '''\n",
    "    \n",
    "    test_pop=populate_world()\n",
    "    \n",
    "    print(type(test_pop))\n",
    "    assert isinstance (test_pop[9][3],Cell)\n",
    "    \n",
    "test_world_functions()"
   ]
  },
  {
   "cell_type": "code",
   "execution_count": 173,
   "metadata": {},
   "outputs": [
    {
     "name": "stdout",
     "output_type": "stream",
     "text": [
      "<bound method Cell.print_stats of <__main__.Cell object at 0x111ef9c50>>\n"
     ]
    }
   ],
   "source": [
    "test=populate_world()\n",
    "type(test)\n",
    "\n",
    "stats=test[1][3].print_stats\n",
    "print(stats)"
   ]
  },
  {
   "cell_type": "code",
   "execution_count": 74,
   "metadata": {},
   "outputs": [],
   "source": [
    "def watch_keys():\n",
    "    '''\n",
    "    function to react to key presses\n",
    "    \n",
    "    <space> = pause/continue\n",
    "    <return> = quit\n",
    "    '''"
   ]
  },
  {
   "cell_type": "code",
   "execution_count": 158,
   "metadata": {},
   "outputs": [
    {
     "name": "stdout",
     "output_type": "stream",
     "text": [
      "True\n",
      "True\n",
      "False   •\n",
      "0 ,  0   None\n",
      "--\n",
      "•  •  •  •  •  •  •  •  •  •  \n",
      "•  •  •  •  •  •  •  •  •  •  \n",
      "•  •  •  •  •  •  •  •  •  •  \n",
      "•  •  •  •  •  •  •  •  •  •  \n",
      "•  •  •  •  •  •  •  •  •  •  \n",
      "•  •  •  •  •  •  •  •  •  •  \n",
      "•  •  •  •  •  •  •  •  •  •  \n",
      "•  •  •  •  •  •  •  •  •  •  \n",
      "•  •  •  •  •  •  •  •  •  •  \n",
      "•  •  •  •  •  •  •  •  •  •  \n"
     ]
    }
   ],
   "source": [
    "grid=10\n",
    "\n",
    "population=populate_world()\n",
    "#for n in range(0,grid):\n",
    " #   for m in range(0,grid):\n",
    "  #      print(n,\", \",m,\": \",population[n][m].life_state)\n",
    "#print(population[1][4].life_state)\n",
    "\n",
    "draw_world(population)"
   ]
  },
  {
   "cell_type": "code",
   "execution_count": 44,
   "metadata": {},
   "outputs": [
    {
     "name": "stdout",
     "output_type": "stream",
     "text": [
      "•  •  •  •  •  •  •  •  •  •  \n",
      "\n",
      "•  •  •  •  •  •  •  •  •  •  \n",
      "\n",
      "•  •  •  •  •  •  •  •  •  •  \n",
      "\n",
      "•  •  •  •  •  •  •  •  •  •  \n",
      "\n",
      "•  •  •  •  •  •  •  •  •  •  \n",
      "\n",
      "•  •  •  •  •  •  •  •  •  •  \n",
      "\n",
      "•  •  •  •  •  •  •  •  •  •  \n",
      "\n",
      "•  •  •  •  •  •  •  •  •  •  \n",
      "\n",
      "•  •  •  •  •  •  •  •  •  •  \n",
      "\n",
      "•  •  •  •  •  •  •  •  •  •  \n",
      "\n"
     ]
    }
   ],
   "source": [
    "#testing idea\n",
    "\n",
    "Size = 10\n",
    "Matrix = np.full((Size, Size), Cell())\n",
    "\n",
    "for x in range(0, Size):\n",
    "    for y in range(0, Size):\n",
    "        Matrix[x][y] = Cell(x_coord=x,y_coord=y)\n",
    "        print(Matrix[x][y].symbol,\" \",end=\"\")\n",
    "    print()\n",
    "    print()\n",
    "\n"
   ]
  },
  {
   "cell_type": "code",
   "execution_count": null,
   "metadata": {},
   "outputs": [],
   "source": []
  },
  {
   "cell_type": "code",
   "execution_count": null,
   "metadata": {},
   "outputs": [],
   "source": []
  }
 ],
 "metadata": {
  "kernelspec": {
   "display_name": "Python 3",
   "language": "python",
   "name": "python3"
  },
  "language_info": {
   "codemirror_mode": {
    "name": "ipython",
    "version": 3
   },
   "file_extension": ".py",
   "mimetype": "text/x-python",
   "name": "python",
   "nbconvert_exporter": "python",
   "pygments_lexer": "ipython3",
   "version": "3.7.1"
  }
 },
 "nbformat": 4,
 "nbformat_minor": 2
}
